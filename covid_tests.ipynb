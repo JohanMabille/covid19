{
 "cells": [
  {
   "cell_type": "markdown",
   "metadata": {},
   "source": [
    "# Efficacité des tests de dépistage"
   ]
  },
  {
   "cell_type": "markdown",
   "metadata": {},
   "source": [
    "## Introduction\n",
    "\n",
    "En France, le déconfinement prochain sera accompagné de tests massifs des personnes symptomatiques. Ces tests, considérés comme prématurés en début de pandémie, sont désormais présentés comme une arme efficace pour lutter contre le virus. Cependant, la manière dont fonctionnent ces tests, notamment leur efficacité à divers stades de l'épidémie, est souvent mal comprise, soit par manque d'explication, soit du fait d'affirmations *a priori* contradictoires. Il n'est ainsi pas rare de voir certains confondre l'efficacité d'un test avec le pourcentage de malades qu'il peut détecter. Le fait que certains pays aient choisi de tester leur population très tôt, alors que beaucoup de professionnels de santé affirment que des tests massifs à l'aveugle sont inutiles, voire contre-productifs, ne fait qu'ajouter à la confusion.\n",
    "\n",
    "Cet article a pour but d'expliquer de manière simple les différentes caractéristiques d'un test de dépistage et comment interpréter ses résultats. Bien qu'appliqués aux tests de dépistage du COVID 19, les raisonnements et résultats de cet article sont transposables à tout test médical (et de manière plus générale, à tout test ayant pour but de détecter une caractéristique spécifique au sein d'une population)."
   ]
  },
  {
   "cell_type": "markdown",
   "metadata": {},
   "source": [
    "## Caractéristiques d'un test de dépistage\n",
    "\n",
    "Les tests de dépistage sont souvent présentés par leur capacité à détecter les malades que l'on sait *a priori*: si on applique le test sur une population de 100 personnes infectées, combien de résultats positifs va-t-on obtenir? Si cette caractéristique est importante, elle ne suffit pas à définir l'efficacité du test. En effet, dans la pratique, on cherche à savoir si la personne testée est malade ou non. Autrement dit, si le test d'une personne se révèle positif, quelles sont les chances pour que cette personne *soit effectivement malade?*\n",
    "\n",
    "La réponse n'est pas immédiate, d'autant qu'aucun test n'est parfait et qu'il génère des faux-positifs: il peut indiquer comme malade une personne qui est en réalité saine. Nous avons ainsi deux caractéristiques d'un test de dépistage:\n",
    "\n",
    "- la sélectivité: sa capacité à détecter des personnes que l'on sait malades *a priori*.\n",
    "- la spécificité: l'opposé du faux-positif, autrement dit sa capacité à détecter comme saines des personnes que l'on sait être non infectées *a priori*.\n",
    "\n",
    "La section suivante montre comment on peut calculer, à  partir de ces caractéristiques, les chances d'être réellement malade *sachant que* l'on a été testé positif."
   ]
  },
  {
   "cell_type": "markdown",
   "metadata": {},
   "source": [
    "## Exemple \n",
    "\n",
    "Considérons une maladie génétique qui touche 1 personne sur 1000 (soit 0.1% de la population). Une population de 1 000 000 de personnes comporte donc 1000 malades et 999 000 personnes saines. On dispose d'un test capable de détecter 80% des malades, et qui génère 5% de faux positif. Si l'on teste le million de personnes suscité, le nombre de résultats positifs peut se décomposer comme suit:\n",
    "\n",
    "- le nombre de malades détectés par le test: 80% de 1000 malades, soit **800**\n",
    "- le nombre de personnes saines, faussement détectées: 5% de 999 000 personnes saines, soit **49 950**\n",
    "\n",
    "Première remarque le nombre de faux positifs est 80 fois plus élevé que le nombre de cas détectés! Mettons cela de côté pour le moment. Le nombre total de tests positifs est donc 49 950 + 800 = **50 750**.\n",
    "\n",
    "Si je suis testé positif, mes chances d'être réellement malade sont: nombre de cas détectés / nombre total de tests positifs, soit 800 / 50 750 = **1.57%**!\n",
    "\n",
    "Cela reste certes beaucoup plus élevés que le pourcentage de malades dans la population (0.1%), mais nettement inférieure aux 80% de détection du test (souvent considéré à tort comme son efficacité).\n",
    "\n",
    "Comment améliorer ce test? Le rapport entre malades détectés (800) et faux positifs (49 750) montre qu'augmenter la sensibilité du test ne changera pas grand-chose. On a au contraire intérêt à diminuer le nombre de faux positifs. Imaginons qu'un laboratoire parvienne à faire chuter ce taux de faux positifs à 1% et reprenons les calculs précédents:\n",
    "\n",
    "- nombre de malades détectés par le test: 80% de 1000 malades, soit **800**\n",
    "- nombre de faux positifs: 1% de 999 000 personnes saines, soit **9 990**\n",
    "- nommbre total de tests positifs: 800 + 9 990 = **10 790**\n",
    "- chances d'être effectivement malade sachant que l'on est testé positif: 800 / 10 790 = **7.41**%\n",
    "\n",
    "Même si c'est beaucoup mieux que le résultat précédent, on est encore loin d'être sûr d'être malade."
   ]
  },
  {
   "cell_type": "markdown",
   "metadata": {},
   "source": [
    "## Influence du nombre de malades\n",
    "\n",
    "Considérons à présent une autre maladie, qui touche non plus 1 personne sur 1000, mais 5 sur 100. Une population de 1 000 000 de personnes contient donc 50 000 malades, et 950 000 personnes saines. Avec les mêmes caractéristiques que le test précédent, on obtient:\n",
    "\n",
    "- nombre de malades détectés par le test: 80% de 50 000 malades, soit **40 000** \n",
    "- nombre de faux positifs: 1% de 950 000, soit **9500**\n",
    "- nombre total de tests positifs: 40 000 + 9500 = **49 500**\n",
    "- chances d'être effectivement malade sachant que l'on est testé positif: 40 000 / 49500 = **80.81%**\n",
    "\n",
    "Ainsi l'efficacité d'un test dépend non seulement de sa capacité à détecter les malades et à ne pas générer de faux positifs, mais également de *la part de la population atteinte*. Plus cette partie est faible, moins le test permet de conclure.\n",
    "\n",
    "Si un test détecte 95% des malades, l'erreur classique consistant à dire que l'on a 95% de chances d'être malade suite à un test positif, est appelé *oubli de la fréquence de base*. Et comme le montre l'exemple précédent, cela amène à surestimer ces chances.\n",
    "\n",
    "Autrement dit, si un test de dépistage d'une maladie grave se révèle positif, il est important de se renseigner sur le nombre de faux positifs générés par le test, et sur la part de la population atteinte par la dite maladie, cela permet souvent de relativiser.\n",
    "\n",
    "Notons que ce raisonnement est transposable à d'autres domaines, au hasard la surveillance vidéo de masse pour faire diminuer la criminalité. Même si la reconnaissance faciale s'est grandement améliorée ces dernière années, elle continue à générer de nombreux faux positifs, comme le révèlent différentes études menées aux Etats-Unis et au Royaume Uni. Je laisse le soin au lecteur de conclure quant à l'efficité du dispositif pour repérer par exemple les terroristes, dont la part dans la population est *extrêmement faible*."
   ]
  },
  {
   "cell_type": "markdown",
   "metadata": {},
   "source": [
    "## Cas du COVID 19\n",
    "\n",
    "Mais revenons au cas qui nous intéresse, la pandémie actuelle. Les calculs précédents supposent que l'on connaissent déjà la part de la population atteinte en moyenne (la fréquence de base). Or, dans le cas du COVID-19, la maladie est nouvelle, donc on ne connaît pas cette part. Pire, cette part évolue: très peu de gens contaminés au début, puis augmentation qui dépend de nombreux facteurs, comme les mesures de distanciation sociale, la circulation de la population, etc. On estime aujourd'hui qu'entre 3% et 6% de la population est infectée.\n",
    "\n",
    "Par ailleurs, la HAS a publié le [cahier des charges](https://www.has-sante.fr/upload/docs/application/pdf/2020-04/cahier_des_charges_test_serologique_covid19.pdf) des tests:\n",
    "\n",
    "- sensibilité clinique (capacité à détecter les malades) entre 90% et 95%\n",
    "- spécificité clinique (capacité à ne pas générer de faux positifs) à 98%\n",
    "\n",
    "La figure ci-dessous permet d'illustrer l'efficacité des tests en fonction de ces données. En rouge, les chances d'être effectivement malade suite à un test positif (à gauche) ou à un test négatif (à droite), en vert les chance d'être sain. Sous la figure différents élement de contrôle vous permettent de faire varier les caractéristiques du test et de constater leur influence sur son efficacité. Une explication mathématiques plus formelle est fournie aprs la figure, elle n'exige pas d'énormes prérequis et reste, je l'espère, accessible au plus grand nombre."
   ]
  },
  {
   "cell_type": "code",
   "execution_count": 1,
   "metadata": {},
   "outputs": [],
   "source": [
    "import numpy as np\n",
    "from bqplot import OrdinalScale, LinearScale, Bars, Axis, Figure, Lines\n",
    "from ipywidgets import FloatSlider, HBox, VBox, FloatText\n",
    "from IPython.display import display"
   ]
  },
  {
   "cell_type": "code",
   "execution_count": 2,
   "metadata": {},
   "outputs": [],
   "source": [
    "sensibility_low = 0.9\n",
    "sensibility_high = 0.95\n",
    "specificity_low = 0.01\n",
    "specificity_high = 0.03\n",
    "contamination_low = 0.03\n",
    "contamination_high = 0.06"
   ]
  },
  {
   "cell_type": "code",
   "execution_count": 3,
   "metadata": {},
   "outputs": [],
   "source": [
    "def positive_proba(contamination, sensibility, specificity):\n",
    "    return sensibility * contamination + specificity * (1. - contamination)\n",
    "\n",
    "def infected_if_positive(contamination, sensibility, specificity):\n",
    "    return sensibility * contamination / positive_proba(contamination, sensibility, specificity)\n",
    "\n",
    "def infected_if_negative(contamination, sensibility, specificity):\n",
    "    return (1. - sensibility) * contamination / (1 - positive_proba(contamination, sensibility, specificity))\n",
    "\n",
    "def compute_proba(contamination, sensibility, specificity):\n",
    "    iip = infected_if_positive(contamination, sensibility, specificity)\n",
    "    niip = 1. - iip\n",
    "    iin = infected_if_negative(contamination, sensibility, specificity)\n",
    "    niin = 1. - iin\n",
    "    return np.array([[iip, iin], [niip, niin]])"
   ]
  },
  {
   "cell_type": "code",
   "execution_count": 13,
   "metadata": {
    "scrolled": true
   },
   "outputs": [
    {
     "data": {
      "application/vnd.jupyter.widget-view+json": {
       "model_id": "9da89badee1c443cae7d6f30081f4781",
       "version_major": 2,
       "version_minor": 0
      },
      "text/plain": [
       "VBox(children=(Figure(axes=[Axis(scale=OrdinalScale()), Axis(label=\"Chances d'être infecté\", orientation='vert…"
      ]
     },
     "metadata": {},
     "output_type": "display_data"
    }
   ],
   "source": [
    "x_data = ['Test Positif', 'Test Negatif']\n",
    "x_ord = OrdinalScale()\n",
    "y_data = compute_proba(contamination_low, sensibility_low, specificity_high)\n",
    "y_sc = LinearScale()\n",
    "\n",
    "bar = Bars(x=x_data, y=y_data, scales={'x': x_ord, 'y': y_sc}, type='stacked', stroke='black',\n",
    "           colors=[\"#e41a1c\", \"#4daf4a\"], labels=['Infecté', 'Sain'], padding = 0.3)\n",
    "bar.label_display = True\n",
    "bar.label_display_format = '.2%'\n",
    "\n",
    "ax_x = Axis(scale=x_ord, grid_lines='solid')\n",
    "ax_y = Axis(scale=y_sc, orientation='vertical', grid_lines='solid', tick_format='.0%',\n",
    "            label='Chances d\\'être infecté')\n",
    "\n",
    "srange = FloatSlider(min=sensibility_low,\n",
    "                     max=sensibility_high,\n",
    "                     step=0.001,\n",
    "                     description='sensibilité',\n",
    "                     readout_format='.1%')\n",
    "sprange = FloatSlider(min=specificity_low,\n",
    "                      max=specificity_high,\n",
    "                      value=specificity_high,\n",
    "                      step=0.001,\n",
    "                      description='spécificité',\n",
    "                      readout_format='.1%')\n",
    "crange = FloatSlider(min = contamination_low,\n",
    "                     max = contamination_high,\n",
    "                     step=0.001,\n",
    "                     description='contagion',\n",
    "                     readout_format='.1%')\n",
    "\n",
    "def update_bar(contamination, selectivity, specificity):\n",
    "    bar.y = compute_proba(contamination, selectivity, specificity)\n",
    "    \n",
    "srange.observe(lambda c: update_bar(crange.value, c['new'], sprange.value), names='value')\n",
    "sprange.observe(lambda c: update_bar(crange.value, srange.value, c['new']), names='value')\n",
    "crange.observe(lambda c: update_bar(c['new'], srange.value, sprange.value), names='value')\n",
    "\n",
    "smintext = FloatText(value=srange.min*100, description='min')\n",
    "smaxtext = FloatText(value=srange.max*100, description='max')\n",
    "spmintext = FloatText(value=sprange.min*100, description='min')\n",
    "spmaxtext = FloatText(value=sprange.max*100, description='max')\n",
    "cmintext = FloatText(value=crange.min*100, description='min')\n",
    "cmaxtext = FloatText(value=crange.max*100, description='max')\n",
    "\n",
    "def update_slider_min(src, target):\n",
    "    target.min = src / 100.\n",
    "    \n",
    "def update_slider_max(xrs, target):\n",
    "    target.max = src / 100.\n",
    "    \n",
    "smintext.observe(lambda c: update_slider_min(c['new'], srange), names='value')\n",
    "smaxtext.observe(lambda c: update_slider_max(c['new'], srange), names='value')\n",
    "spmintext.observe(lambda c: update_slider_min(c['new'], sprange), names='value')\n",
    "spmaxtext.observe(lambda c: update_slider_max(c['new'], sprange), names='value')\n",
    "cmintext.observe(lambda c: update_slider_min(c['new'], crange), names='value')\n",
    "cmaxtext.observe(lambda c: update_slider_max(c['new'], crange), names='value')\n",
    "\n",
    "fig = Figure(marks=[bar], axes=[ax_x, ax_y], title='Efficacité des tests')\n",
    "to_display = VBox((fig,\n",
    "        HBox((srange, smintext, smaxtext)),\n",
    "        HBox((sprange, spmintext, spmaxtext)),\n",
    "        HBox((crange, cmintext, cmaxtext))))\n",
    "to_display"
   ]
  },
  {
   "cell_type": "markdown",
   "metadata": {},
   "source": [
    "## Démonstration Mathématiques\n",
    "\n",
    "Les résultats exposés en début d'article se retrouvent grâce aux probabilités. Notons A l'évènement \"Le test est positif\" et B \"La personne est malade\". On cherche à calculer les chances que l'on a d'être malade sachant que le test est positif. Dit autrement, on cherche à connaître la probabilité de l'évènement B sanchant que l'évènement A s'est réalisé. On note cette probablité p(B/A) (lire probabilité de B sachant A).\n",
    "\n",
    "Les caractéristiques du test nous fournissent d'autres probabilités:\n",
    "\n",
    "- sensibilité: probabilité que le test soit positif sachant que la personne est malade, soit p(A/B)\n",
    "- taux de faux positifs: probabilité que le test soit positif sachant que la personne n'est PAS malade, soit p(A/non(B))\n",
    "\n",
    "Par ailleurs, le taux de contagion n'est autre que la probabilité d'être malade (indépendamment de tout test), soit p(B).\n",
    "\n",
    "Le théorème de Bayes (que nous ne démontrons pas ici) dit que p(B/A) x p(A) = p(A/B) x p(B). Ou, écrit autrement,\n",
    "p(B/A) = p(A/B) x p(B) / p(A).\n",
    "\n",
    "On connaît déjà p(B) (taux de contagion) et p(A/B) (sensibilité du test), il nous reste à évaluer p(A), c'est à dire la probabilité qu'un test se révèle positif. Lorsque l'on teste une personne au hasard, il y a deux possibilités: soit la personne est malade, soit elle ne l'est pas. On peut ainsi dire que la probabilité qu'un test soit positif se décompose en:\n",
    "- la probabilité qu'un test soit positif *sachant que* la personne est malade, soit p(A/B)\n",
    "- la probabilité qu'un test soit négatif *sachant que* la personne n'est pas malade, soit p(A/non(B)).\n",
    "\n",
    "Autrement dit, c'est la somme de la sensibilité et du taux de faux positifs: p(A) = p(A/B) + p(A/non(B)).\n",
    "\n",
    "On a donc p(B/A) = p(A/B) x p(B) / \\[p(A/B) + p(A/non(B))\\]\n",
    "\n",
    "Dit autrement: p(B/A) = sensibilité x taux de contagion / (sensibilité + taux de faux positifs)"
   ]
  }
 ],
 "metadata": {
  "kernelspec": {
   "display_name": "Python 3",
   "language": "python",
   "name": "python3"
  },
  "language_info": {
   "codemirror_mode": {
    "name": "ipython",
    "version": 3
   },
   "file_extension": ".py",
   "mimetype": "text/x-python",
   "name": "python",
   "nbconvert_exporter": "python",
   "pygments_lexer": "ipython3",
   "version": "3.8.2"
  }
 },
 "nbformat": 4,
 "nbformat_minor": 2
}
