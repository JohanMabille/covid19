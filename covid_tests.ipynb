{
 "cells": [
  {
   "cell_type": "markdown",
   "metadata": {},
   "source": [
    "# Efficacité des tests de dépistage du COVID-19"
   ]
  },
  {
   "cell_type": "markdown",
   "metadata": {},
   "source": [
    "On estime aujourd'hui qu'entre 3% et 6% de la population française est infectée.\n",
    "\n",
    "Par ailleurs, la HAS a publié le [cahier des charges](https://www.has-sante.fr/upload/docs/application/pdf/2020-04/cahier_des_charges_test_serologique_covid19.pdf) des tests:\n",
    "\n",
    "- sensibilité clinique (capacité à détecter les malades) entre 90% et 95%\n",
    "- spécificité clinique (capacité à ne pas générer de faux positifs) à 98%\n",
    "\n",
    "La figure ci-dessous permet d'illustrer l'efficacité des tests en fonction de ces données:\n",
    "\n",
    "- en rouge, les risques d'être effectivement malade suite à un test positif (à gauche) ou à un test négatif (à droite)\n",
    "- en vert les chance d'être sain\n",
    "\n",
    "Sous la figure, différents élements de contrôle vous permettent de faire varier les caractéristiques du test et de constater leur influence sur son efficacité."
   ]
  },
  {
   "cell_type": "code",
   "execution_count": 1,
   "metadata": {},
   "outputs": [],
   "source": [
    "import numpy as np\n",
    "from bqplot import OrdinalScale, LinearScale, Bars, Axis, Figure, Lines\n",
    "from ipywidgets import FloatSlider, HBox, VBox, FloatText\n",
    "from IPython.display import display"
   ]
  },
  {
   "cell_type": "code",
   "execution_count": 2,
   "metadata": {},
   "outputs": [],
   "source": [
    "sensibility_low = 0.9\n",
    "sensibility_high = 0.95\n",
    "specificity_low = 0.01\n",
    "specificity_high = 0.03\n",
    "contamination_low = 0.03\n",
    "contamination_high = 0.06"
   ]
  },
  {
   "cell_type": "code",
   "execution_count": 3,
   "metadata": {},
   "outputs": [],
   "source": [
    "def positive_proba(contamination, sensibility, specificity):\n",
    "    return sensibility * contamination + specificity * (1. - contamination)\n",
    "\n",
    "def infected_if_positive(contamination, sensibility, specificity):\n",
    "    return sensibility * contamination / positive_proba(contamination, sensibility, specificity)\n",
    "\n",
    "def infected_if_negative(contamination, sensibility, specificity):\n",
    "    return (1. - sensibility) * contamination / (1 - positive_proba(contamination, sensibility, specificity))\n",
    "\n",
    "def compute_proba(contamination, sensibility, specificity):\n",
    "    iip = infected_if_positive(contamination, sensibility, specificity)\n",
    "    niip = 1. - iip\n",
    "    iin = infected_if_negative(contamination, sensibility, specificity)\n",
    "    niin = 1. - iin\n",
    "    return np.array([[iip, iin], [niip, niin]])"
   ]
  },
  {
   "cell_type": "code",
   "execution_count": 9,
   "metadata": {
    "scrolled": false
   },
   "outputs": [
    {
     "data": {
      "application/vnd.jupyter.widget-view+json": {
       "model_id": "f8bc919ce9c448bdbcdb498bda972417",
       "version_major": 2,
       "version_minor": 0
      },
      "text/plain": [
       "VBox(children=(Figure(axes=[Axis(scale=OrdinalScale()), Axis(label=\"Risque d'être infecté\", orientation='verti…"
      ]
     },
     "metadata": {},
     "output_type": "display_data"
    }
   ],
   "source": [
    "x_data = ['Test Positif', 'Test Negatif']\n",
    "x_ord = OrdinalScale()\n",
    "y_data = compute_proba(contamination_low, sensibility_low, specificity_high)\n",
    "y_sc = LinearScale()\n",
    "\n",
    "bar = Bars(x=x_data, y=y_data, scales={'x': x_ord, 'y': y_sc}, type='stacked',\n",
    "           colors=[\"#e41a1c\", \"#4daf4a\"], labels=['Infecté', 'Sain'], padding=0.6,\n",
    "           display_legend=True)\n",
    "bar.label_display = True\n",
    "bar.label_display_format = '.2%'\n",
    "\n",
    "ax_x = Axis(scale=x_ord, grid_lines='solid')\n",
    "ax_y = Axis(scale=y_sc, orientation='vertical', grid_lines='solid', tick_format='.0%',\n",
    "            label='Risque d\\'être infecté')\n",
    "\n",
    "srange = FloatSlider(min=sensibility_low,\n",
    "                     max=sensibility_high,\n",
    "                     step=0.001,\n",
    "                     description='sensibilité',\n",
    "                     readout_format='.1%')\n",
    "sprange = FloatSlider(min=specificity_low,\n",
    "                      max=specificity_high,\n",
    "                      value=specificity_high,\n",
    "                      step=0.001,\n",
    "                      description='Faux positifs',\n",
    "                      readout_format='.1%')\n",
    "crange = FloatSlider(min = contamination_low,\n",
    "                     max = contamination_high,\n",
    "                     step=0.001,\n",
    "                     description='contamination',\n",
    "                     readout_format='.1%')\n",
    "\n",
    "def update_bar(contamination, selectivity, specificity):\n",
    "    bar.y = compute_proba(contamination, selectivity, specificity)\n",
    "    \n",
    "srange.observe(lambda c: update_bar(crange.value, c['new'], sprange.value), names='value')\n",
    "sprange.observe(lambda c: update_bar(crange.value, srange.value, c['new']), names='value')\n",
    "crange.observe(lambda c: update_bar(c['new'], srange.value, sprange.value), names='value')\n",
    "\n",
    "smintext = FloatText(value=srange.min*100, description='min')\n",
    "smaxtext = FloatText(value=srange.max*100, description='max')\n",
    "spmintext = FloatText(value=sprange.min*100, description='min')\n",
    "spmaxtext = FloatText(value=sprange.max*100, description='max')\n",
    "cmintext = FloatText(value=crange.min*100, description='min')\n",
    "cmaxtext = FloatText(value=crange.max*100, description='max')\n",
    "\n",
    "def update_slider_min(src, target):\n",
    "    target.min = src / 100.\n",
    "    \n",
    "def update_slider_max(xrs, target):\n",
    "    target.max = src / 100.\n",
    "    \n",
    "smintext.observe(lambda c: update_slider_min(c['new'], srange), names='value')\n",
    "smaxtext.observe(lambda c: update_slider_max(c['new'], srange), names='value')\n",
    "spmintext.observe(lambda c: update_slider_min(c['new'], sprange), names='value')\n",
    "spmaxtext.observe(lambda c: update_slider_max(c['new'], sprange), names='value')\n",
    "cmintext.observe(lambda c: update_slider_min(c['new'], crange), names='value')\n",
    "cmaxtext.observe(lambda c: update_slider_max(c['new'], crange), names='value')\n",
    "\n",
    "fig = Figure(marks=[bar], axes=[ax_x, ax_y], title='Efficacité des tests', legend_location='top-right',\n",
    "            theme='gg')\n",
    "to_display = VBox((fig,\n",
    "        HBox((srange, smintext, smaxtext)),\n",
    "        HBox((sprange, spmintext, spmaxtext)),\n",
    "        HBox((crange, cmintext, cmaxtext))))\n",
    "to_display"
   ]
  }
 ],
 "metadata": {
  "kernelspec": {
   "display_name": "Python 3",
   "language": "python",
   "name": "python3"
  },
  "language_info": {
   "codemirror_mode": {
    "name": "ipython",
    "version": 3
   },
   "file_extension": ".py",
   "mimetype": "text/x-python",
   "name": "python",
   "nbconvert_exporter": "python",
   "pygments_lexer": "ipython3",
   "version": "3.8.2"
  }
 },
 "nbformat": 4,
 "nbformat_minor": 2
}
