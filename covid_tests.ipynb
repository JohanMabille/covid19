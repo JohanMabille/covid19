{
 "cells": [
  {
   "cell_type": "markdown",
   "metadata": {},
   "source": [
    "# Efficacité des tests de dépistage"
   ]
  },
  {
   "cell_type": "markdown",
   "metadata": {},
   "source": [
    "## Introduction\n",
    "\n",
    "En France, à partir du 11 mai 2020, le déconfinement sera accompagné de tests massifs des personnes présentant des symptômes du COVID 19. Or, les résultats de ces tests, ainsi que leur efficacité à divers stades de l'épidémie, sont des sujets souvent méconnus ou mal interprétés, par manque d'explication accessible à tous.\n",
    "\n",
    "Ces tests, considérés comme prématurés en début de pandémie, sont désormais présentés comme une arme efficace pour lutter contre le virus. Cette affirmation peut paraître surprenante, notamment du fait que certains pays ont choisi de tester leur population très tôt. Et ce, alors que beaucoup de professionnels de santé affirment que des tests massifs, à l'aveugle, sont \"inutiles\", voire \"contre-productifs\".\n",
    "\n",
    "Cet article a pour but d'expliquer, de manière simple, les différentes caractéristiques d'un test de dépistage et comment en interpréter les résultats. Bien qu'appliqués aux tests de dépistage du COVID 19, les raisonnements et résultats de cet article sont transposables à tout test médical (et de manière plus générale, à tout test ayant pour but de détecter une caractéristique spécifique au sein d'une population)."
   ]
  },
  {
   "cell_type": "markdown",
   "metadata": {},
   "source": [
    "## Caractéristiques d'un test de dépistage\n",
    "\n",
    "On entend souvent qu'un test de dépistage est efficace à 95% (par exemple). Cette mesure est en réalité le nombre de réponses positives que l'on aura si on applique le test à une population entièrement malade. Or, dans la pratique, on utilise le test pour savoir si une personne a priori saine est malade ou non. La question qui se pose alors est la suivante: si le test d'une personne se révèle positif, quelles sont les risques pour que cette personne *soit effectivement malade?*\n",
    "\n",
    "La réponse n'est pas immédiate, d'autant qu'aucun test n'est parfait et qu'il peut générer des \"faux positifs\", c'est-à-dire indiquer comme malade une personne qui est en réalité saine. Pour pouvoir interpréter les résultats, il faut donc considérer ces deux caractéristiques d'un test de dépistage:\n",
    "\n",
    "- sa sélectivité clinique: capacité à détecter la maladie chez des personnes que l'on sait malades.\n",
    "- sa spécificité clinique: capacité à ne pas générer de faux positifs.\n",
    "\n",
    "La section suivante montre comment on peut calculer, à  partir de ces caractéristiques, les risques d'être réellement malade *sachant que* l'on a été testé positif."
   ]
  },
  {
   "cell_type": "markdown",
   "metadata": {},
   "source": [
    "## Exemple \n",
    "\n",
    "Considérons une maladie génétique qui touche 1 personne sur 1000 (soit 0.1% de la population). Une population de 1 000 000 de personnes comporte donc 1000 malades et 999 000 personnes saines. On dispose d'un test capable de détecter 80% des malades, et qui génère 5% de faux positif.\n",
    "Si l'on teste le million de personnes suscité, le nombre de résultats positifs peut se décomposer comme suit:\n",
    "\n",
    "- le nombre de malades détectés par le test: 80% de 1000 malades, soit **800**\n",
    "- le nombre de personnes saines, faussement détectées: 5% de 999 000 personnes saines, soit **49 950**\n",
    "\n",
    "Première remarque le nombre de faux positifs est 80 fois plus élevé que le nombre de cas détectés! Mettons cela de côté pour le moment. \n",
    "\n",
    "Le nombre total de tests positifs est donc 800 + 49 950 = **50 750**.\n",
    "Si je suis testé positif, mes risques d'être réellement malade sont: \n",
    "\n",
    "    nombre de cas détectés / nombre total de tests positifs, soit 800 / 50 750 = 1.57%!\n",
    "\n",
    "Si je suis testé positif, j'ai donc moins de 2% de risques d'être malade. Cela reste certes beaucoup plus élevés que le pourcentage de malades dans la population complète (0.1%), mais nettement inférieur aux 80% de détection du test (souvent considéré à tort comme étant le risque d'être malade en cas de test positif).\n",
    "\n",
    "Comment améliorer ce test? Le rapport entre malades détectés (800) et faux positifs (49 750) montre qu'augmenter la sensibilité du test ne changera pas grand-chose. En effet, même si le test est capable de détecter tous les malades (soit 1000), ce nombre reste nettement inférieur au nombre de faux positifs. On a donc intérêt agir sur ce dernier.\n",
    "\n",
    "Imaginons qu'un laboratoire parvienne à faire chuter ce taux de faux positifs à 1% et reprenons les calculs précédents:\n",
    "\n",
    "- nombre de malades détectés par le test: 80% de 1000 malades, soit **800**\n",
    "- nombre de faux positifs: 1% de 999 000 personnes saines, soit **9 990**\n",
    "- nommbre total de tests positifs: 800 + 9 990 = **10 790**\n",
    "- risques d'être effectivement malade sachant que l'on est testé positif: 800 / 10 790 = **7.41**%\n",
    "\n",
    "Même si c'est beaucoup mieux que le résultat précédent, on est encore loin d'être sûr d'être malade."
   ]
  },
  {
   "cell_type": "markdown",
   "metadata": {},
   "source": [
    "## Influence du nombre de malades\n",
    "\n",
    "Considérons à présent une autre maladie, qui touche non plus 1 personne sur 1000, mais 5 sur 100. Une population de 1 000 000 de personnes contient donc 50 000 malades, et 950 000 personnes saines. Avec les mêmes caractéristiques que le test précédent, on obtient:\n",
    "\n",
    "- nombre de malades détectés par le test: 80% de 50 000 malades, soit **40 000** \n",
    "- nombre de faux positifs: 1% de 950 000, soit **9500**\n",
    "- nombre total de tests positifs: 40 000 + 9500 = **49 500**\n",
    "- risques d'être effectivement malade sachant que l'on est testé positif: 40 000 / 49500 = **80.81%**\n",
    "\n",
    "Ainsi l'efficacité d'un test dépend non seulement de sa capacité à détecter les malades, à ne pas générer de faux positifs, mais également du *pourcentage de la population malade (estimé statistiquement)* : plus ce pourcentage est faible, moins un test positif permet de conclure.\n",
    "\n",
    "Si un test détecte 95% des malades, l'erreur classique consistant à dire que l'on a 95% de risque d'être malade avec un test positif, est appelé *oubli de la fréquence de base*. Et comme le montre l'exemple précédent, cela amène à surestimer ce risque.\n",
    "\n",
    "**Autrement dit, si un test de dépistage d'une maladie grave se révèle positif, il est important de se renseigner sur le nombre de faux positifs générés par le test, et sur la part de la population atteinte par la dite maladie, cela permet souvent de relativiser.**\n",
    "\n",
    "Notons que ce raisonnement est transposable à d'autres domaines, au hasard la surveillance vidéo de masse pour faire diminuer la criminalité. Même si la reconnaissance faciale s'est grandement améliorée ces dernière années, elle continue à générer de nombreux faux positifs, comme le révèlent différentes études menées aux Etats-Unis et au Royaume Uni. Je laisse le soin au lecteur de conclure quant à l'efficité du dispositif pour repérer par exemple les terroristes, dont la part dans la population est *extrêmement faible*."
   ]
  },
  {
   "cell_type": "markdown",
   "metadata": {},
   "source": [
    "## Cas du COVID 19\n",
    "\n",
    "Mais revenons au cas qui nous intéresse, la pandémie actuelle. Les calculs précédents supposent que l'on connaissent déjà la part de la population atteinte en moyenne (la fréquence de base). Or, dans le cas du COVID-19, la maladie est nouvelle, donc on ne connaît pas cette part. Pire, cette part évolue: très peu de gens contaminés au début, puis augmentation qui dépend de nombreux facteurs, comme les mesures de distanciation sociale, la circulation de la population, etc. On estime aujourd'hui qu'entre 3% et 6% de la population est infectée.\n",
    "\n",
    "Par ailleurs, la HAS a publié le [cahier des charges](https://www.has-sante.fr/upload/docs/application/pdf/2020-04/cahier_des_charges_test_serologique_covid19.pdf) des tests:\n",
    "\n",
    "- sensibilité clinique (capacité à détecter les malades) entre 90% et 95%\n",
    "- spécificité clinique (capacité à ne pas générer de faux positifs) à 98%\n",
    "\n",
    "La figure ci-dessous permet d'illustrer l'efficacité des tests en fonction de ces données:\n",
    "\n",
    "- en rouge, les risques d'être effectivement malade suite à un test positif (à gauche) ou à un test négatif (à droite)\n",
    "- en vert les chance d'être sain\n",
    "\n",
    "Sous la figure, différents élements de contrôle vous permettent de faire varier les caractéristiques du test et de constater leur influence sur son efficacité. Une explication mathématique plus formelle est fournie après la figure pour ceux qui le souhaitent. Les lecteurs peu férus de maths peuvent sauter directement à la conclusion."
   ]
  },
  {
   "cell_type": "code",
   "execution_count": 1,
   "metadata": {},
   "outputs": [],
   "source": [
    "import numpy as np\n",
    "from bqplot import OrdinalScale, LinearScale, Bars, Axis, Figure, Lines\n",
    "from ipywidgets import FloatSlider, HBox, VBox, FloatText\n",
    "from IPython.display import display"
   ]
  },
  {
   "cell_type": "code",
   "execution_count": 2,
   "metadata": {},
   "outputs": [],
   "source": [
    "sensibility_low = 0.9\n",
    "sensibility_high = 0.95\n",
    "specificity_low = 0.01\n",
    "specificity_high = 0.03\n",
    "contamination_low = 0.03\n",
    "contamination_high = 0.06"
   ]
  },
  {
   "cell_type": "code",
   "execution_count": 3,
   "metadata": {},
   "outputs": [],
   "source": [
    "def positive_proba(contamination, sensibility, specificity):\n",
    "    return sensibility * contamination + specificity * (1. - contamination)\n",
    "\n",
    "def infected_if_positive(contamination, sensibility, specificity):\n",
    "    return sensibility * contamination / positive_proba(contamination, sensibility, specificity)\n",
    "\n",
    "def infected_if_negative(contamination, sensibility, specificity):\n",
    "    return (1. - sensibility) * contamination / (1 - positive_proba(contamination, sensibility, specificity))\n",
    "\n",
    "def compute_proba(contamination, sensibility, specificity):\n",
    "    iip = infected_if_positive(contamination, sensibility, specificity)\n",
    "    niip = 1. - iip\n",
    "    iin = infected_if_negative(contamination, sensibility, specificity)\n",
    "    niin = 1. - iin\n",
    "    return np.array([[iip, iin], [niip, niin]])"
   ]
  },
  {
   "cell_type": "code",
   "execution_count": 7,
   "metadata": {
    "scrolled": true
   },
   "outputs": [
    {
     "data": {
      "application/vnd.jupyter.widget-view+json": {
       "model_id": "4612ec98fad04a36a67a70a3fe809a9e",
       "version_major": 2,
       "version_minor": 0
      },
      "text/plain": [
       "VBox(children=(Figure(axes=[Axis(scale=OrdinalScale()), Axis(label=\"Chances d'être infecté\", orientation='vert…"
      ]
     },
     "metadata": {},
     "output_type": "display_data"
    }
   ],
   "source": [
    "x_data = ['Test Positif', 'Test Negatif']\n",
    "x_ord = OrdinalScale()\n",
    "y_data = compute_proba(contamination_low, sensibility_low, specificity_high)\n",
    "y_sc = LinearScale()\n",
    "\n",
    "bar = Bars(x=x_data, y=y_data, scales={'x': x_ord, 'y': y_sc}, type='stacked', stroke='black',\n",
    "           colors=[\"#e41a1c\", \"#4daf4a\"], labels=['Infecté', 'Sain'], padding = 0.3)\n",
    "bar.label_display = True\n",
    "bar.label_display_format = '.2%'\n",
    "\n",
    "ax_x = Axis(scale=x_ord, grid_lines='solid')\n",
    "ax_y = Axis(scale=y_sc, orientation='vertical', grid_lines='solid', tick_format='.0%',\n",
    "            label='Chances d\\'être infecté')\n",
    "\n",
    "srange = FloatSlider(min=sensibility_low,\n",
    "                     max=sensibility_high,\n",
    "                     step=0.001,\n",
    "                     description='sensibilité',\n",
    "                     readout_format='.1%')\n",
    "sprange = FloatSlider(min=specificity_low,\n",
    "                      max=specificity_high,\n",
    "                      value=specificity_high,\n",
    "                      step=0.001,\n",
    "                      description='Faux positifs',\n",
    "                      readout_format='.1%')\n",
    "crange = FloatSlider(min = contamination_low,\n",
    "                     max = contamination_high,\n",
    "                     step=0.001,\n",
    "                     description='contamination',\n",
    "                     readout_format='.1%')\n",
    "\n",
    "def update_bar(contamination, selectivity, specificity):\n",
    "    bar.y = compute_proba(contamination, selectivity, specificity)\n",
    "    \n",
    "srange.observe(lambda c: update_bar(crange.value, c['new'], sprange.value), names='value')\n",
    "sprange.observe(lambda c: update_bar(crange.value, srange.value, c['new']), names='value')\n",
    "crange.observe(lambda c: update_bar(c['new'], srange.value, sprange.value), names='value')\n",
    "\n",
    "smintext = FloatText(value=srange.min*100, description='min')\n",
    "smaxtext = FloatText(value=srange.max*100, description='max')\n",
    "spmintext = FloatText(value=sprange.min*100, description='min')\n",
    "spmaxtext = FloatText(value=sprange.max*100, description='max')\n",
    "cmintext = FloatText(value=crange.min*100, description='min')\n",
    "cmaxtext = FloatText(value=crange.max*100, description='max')\n",
    "\n",
    "def update_slider_min(src, target):\n",
    "    target.min = src / 100.\n",
    "    \n",
    "def update_slider_max(xrs, target):\n",
    "    target.max = src / 100.\n",
    "    \n",
    "smintext.observe(lambda c: update_slider_min(c['new'], srange), names='value')\n",
    "smaxtext.observe(lambda c: update_slider_max(c['new'], srange), names='value')\n",
    "spmintext.observe(lambda c: update_slider_min(c['new'], sprange), names='value')\n",
    "spmaxtext.observe(lambda c: update_slider_max(c['new'], sprange), names='value')\n",
    "cmintext.observe(lambda c: update_slider_min(c['new'], crange), names='value')\n",
    "cmaxtext.observe(lambda c: update_slider_max(c['new'], crange), names='value')\n",
    "\n",
    "fig = Figure(marks=[bar], axes=[ax_x, ax_y], title='Efficacité des tests')\n",
    "to_display = VBox((fig,\n",
    "        HBox((srange, smintext, smaxtext)),\n",
    "        HBox((sprange, spmintext, spmaxtext)),\n",
    "        HBox((crange, cmintext, cmaxtext))))\n",
    "to_display"
   ]
  },
  {
   "cell_type": "markdown",
   "metadata": {},
   "source": [
    "## Démonstration Mathématique\n",
    "\n",
    "Les résultats exposés en début d'article se retrouvent grâce aux probabilités. Notons A l'évènement \"Le test est positif\" et B \"La personne est malade\". On cherche à calculer les chances que l'on a d'être malade sachant que le test est positif. Dit autrement, on cherche à connaître la probabilité de l'évènement B sanchant que l'évènement A s'est réalisé. On note cette probablité p(B/A) (lire probabilité de B sachant A).\n",
    "\n",
    "Les caractéristiques du test nous fournissent d'autres probabilités:\n",
    "\n",
    "- sensibilité: probabilité que le test soit positif sachant que la personne est malade, soit p(A/B)\n",
    "- taux de faux positifs: probabilité que le test soit positif sachant que la personne n'est PAS malade, soit p(A/non(B))\n",
    "\n",
    "Par ailleurs, le taux de contamination n'est autre que la probabilité d'être malade (indépendamment de tout test), soit p(B).\n",
    "\n",
    "Le théorème de Bayes (que nous ne démontrons pas ici) dit que p(B/A) x p(A) = p(A/B) x p(B). Ou, écrit autrement,\n",
    "p(B/A) = p(A/B) x p(B) / p(A).\n",
    "\n",
    "On connaît déjà p(B) (taux de contamination) et p(A/B) (sensibilité du test), il nous reste à évaluer p(A), c'est à dire la probabilité qu'un test se révèle positif. Lorsque l'on teste une personne au hasard, il y a deux possibilités: soit la personne est malade, soit elle ne l'est pas. On peut ainsi dire que la probabilité qu'un test soit positif se décompose en:\n",
    "- la probabilité qu'un test soit positif *sachant que* la personne est malade, soit p(A/B)\n",
    "- la probabilité qu'un test soit négatif *sachant que* la personne n'est pas malade, soit p(A/non(B)).\n",
    "\n",
    "Autrement dit, c'est la somme de la sensibilité et du taux de faux positifs: p(A) = p(A/B) + p(A/non(B)).\n",
    "\n",
    "On a donc p(B/A) = p(A/B) x p(B) / \\[p(A/B) + p(A/non(B))\\]\n",
    "\n",
    "Dit autrement: p(B/A) = sensibilité x taux de contagion / (sensibilité + taux de faux positifs)"
   ]
  },
  {
   "cell_type": "markdown",
   "metadata": {},
   "source": [
    "## Conclusion\n",
    "\n",
    "Nous avons donc vu que la sensibilité (capacité à détecter les personnes effectivement malades) et la spécificité (capacité à ne pas générer de faux positifs) ne suffisent pas à interpréter les résultats d'un test de dépistage. Un paramètre souvent oublié, la part de la population atteinte en moyenne, va grandement influer sur les résultats: plus cette part est faible, plus le nombre de faux positifs va être important.\n",
    "\n",
    "Ainsi, tester massivement la population en début d'épidémie, quand peu de gens sont contaminés, n'apparaît pas être une stratégie efficiente: le nombre de faux positifs à traiter sera beaucoup trop élevé. En revanche, il semble plus adapté de tester massivement une fois l'épidémie installée car un taux de contamination plus élevé permettra d'avoir des résultats de tests plus fiables.\n",
    "\n",
    "Une manière de diminuer le nombre de faux positifs est de multiplier le nombre de tests sur une même personne: la probabilité d'être malade augmente alors avec le nombre de résultats positifs. Nous verrons cependant dans un prochain article que le nombre de tests requis reste toutefois assez conséquent en début d'épidémie, et qu'il n'est pas forcément judicieux de démarrer une campagne de dépistage massif trop tôt."
   ]
  }
 ],
 "metadata": {
  "kernelspec": {
   "display_name": "Python 3",
   "language": "python",
   "name": "python3"
  },
  "language_info": {
   "codemirror_mode": {
    "name": "ipython",
    "version": 3
   },
   "file_extension": ".py",
   "mimetype": "text/x-python",
   "name": "python",
   "nbconvert_exporter": "python",
   "pygments_lexer": "ipython3",
   "version": "3.8.2"
  }
 },
 "nbformat": 4,
 "nbformat_minor": 2
}
